{
 "cells": [
  {
   "cell_type": "markdown",
   "metadata": {},
   "source": [
    "# Group Project - 2"
   ]
  },
  {
   "cell_type": "markdown",
   "metadata": {},
   "source": [
    "| Sl.no | Team Member | UT EID |\n",
    "|---\t| ------\t|---\t|\n",
    "| 1 | Chyavan Mysore Chandrashekar \t| CM65624 |\n",
    "| 2 | Mihir Ninad Deshpande       \t| MD46487 |\n",
    "| 3 | Neel Sheth        \t        | NDS967 |\n",
    "| 4 | Tanushree Devi Balaji       \t| TB33857 |"
   ]
  },
  {
   "cell_type": "markdown",
   "metadata": {},
   "source": [
    "<hr>"
   ]
  },
  {
   "cell_type": "markdown",
   "metadata": {},
   "source": [
    "### Imports Required"
   ]
  },
  {
   "cell_type": "code",
   "execution_count": 1,
   "metadata": {},
   "outputs": [],
   "source": [
    "import gurobipy as gp\n",
    "import pandas as pd\n",
    "import warnings\n",
    "import numpy as np\n",
    "from os.path import exists\n",
    "import matplotlib.pyplot as plt\n",
    "warnings.filterwarnings('ignore')\n",
    "%matplotlib inline"
   ]
  },
  {
   "cell_type": "markdown",
   "metadata": {},
   "source": [
    "### Stock Portfolio class"
   ]
  },
  {
   "cell_type": "markdown",
   "metadata": {},
   "source": [
    "Stock Portfolio Class has been defined that can handle two types of optimization.\n",
    "* First Method - Use a correlation matrix to find the optimal `m` subset of stocks from the 100 stocks that can best represent the other `100-m` stocks. Then, find the optimal way to weigh each of these stocks in the portfolio being created so as to match the Index performance as much as possible.\n",
    "* Second Method - Consider a single Mixed Integer Program (`MIP` in code) where we directly find the optimal weights for `m` subset of stocks, making sure that the other weights are zero."
   ]
  },
  {
   "cell_type": "code",
   "execution_count": 2,
   "metadata": {},
   "outputs": [],
   "source": [
    "class StockPortfolio:\n",
    "    \"\"\"\n",
    "    Methods:\n",
    "        __init__: Initializes the StockPortfolio object with the Training data to be taken from the \"filepath\" passed,\n",
    "            and uses the solver as mentioned in the argument\n",
    "        \n",
    "        __get_returns__: Private method to create the return DataFrame from the stock price DataFrame\n",
    "\n",
    "        build_portfolio: Public method to build a portfolio of \"m\" stocks based on the data in \"filepath\"\"Project-2 copy.ipynb\"\n",
    "\n",
    "        get_error: Get the *difference in the performance of the portfolio with the Index fund on the given data.\n",
    "            * Difference in performance is measured as the Sum Absolute Difference between the returns of the index and the portfolio\n",
    "                over the time available in the data\n",
    "    \"\"\"\n",
    "    def __init__(self, filepath, MIP=False):\n",
    "        \"\"\"\n",
    "        Parameters:\n",
    "            - filepath: str\n",
    "                file path of the dataset with the stocks on which the stocks and weights have to be determined (i.e. Training Data)\n",
    "            - MIP: bool, default False\n",
    "                True if the class has to use Mixed Integer Program (second method) to solve a single optimization problem\n",
    "                and find the optimal stocks\n",
    "        \n",
    "        Returns:\n",
    "            None\n",
    "        \"\"\"\n",
    "        self.filepath = filepath\n",
    "        self.MIP = MIP\n",
    "        stock_df = pd.read_csv(self.filepath)\n",
    "\n",
    "        # First Column is considered as the date column, and second columns is considered as the Index Fund column\n",
    "        # - Alternatively, we can hardcode column with name \"X\" and \"NDX\" to be the date and Index Fund columns\n",
    "        self.date_col = stock_df.columns.values[0]\n",
    "        self.idx_fund_col = stock_df.columns.values[1]\n",
    "\n",
    "        # Make date as the index of the dataframe\n",
    "        stock_df[self.date_col] = pd.to_datetime(stock_df[self.date_col])\n",
    "        stock_df.set_index(keys=self.date_col, inplace=True)\n",
    "        stock_df.sort_index(inplace=True)\n",
    "\n",
    "        # Calculate the returns dataframe - This dataframe will have one less row than the original dataframe\n",
    "        self.returns_df = pd.DataFrame(0, index=stock_df.index.values[1:], columns=stock_df.columns.values)\n",
    "        self.returns_df = self.returns_df.apply(\n",
    "            func=lambda row: self.__get_returns__(stock_df, row.name), axis=1\n",
    "        )\n",
    "\n",
    "        # Calculate the Correlation Matrix between the stocks using the returns\n",
    "        correlation_df = self.returns_df.corr()\n",
    "\n",
    "        # Make copies to store data of all stocks except \"Index\"\n",
    "        self.no_idx_returns_df = self.returns_df.drop(columns=self.idx_fund_col)\n",
    "        self.no_idx_correlation_df = correlation_df.drop(columns=self.idx_fund_col).drop(self.idx_fund_col)\n",
    "\n",
    "        # Calculate the number of rows and columns (#stocks)\n",
    "        self.n_rows = self.no_idx_correlation_df.shape[0]\n",
    "        self.n_cols = self.no_idx_correlation_df.shape[1]\n",
    "        self.selected_stocks = None\n",
    "\n",
    "    def __get_returns__(self, price_df, day):\n",
    "        \"\"\"\n",
    "        Parameters:\n",
    "            - price_df: pandas.DataFrame\n",
    "                A DataFrame containing the prices of all the stocks\n",
    "            - day: pandas.Timestamp\n",
    "                The day (row) of the DataFrame to calculate the returns on as compared to the previous day\n",
    "\n",
    "        Returns:\n",
    "            - pandas.Series\n",
    "                A series of returns calculated for all the stocks for the particular day\n",
    "        \"\"\"\n",
    "        today = day\n",
    "        yesterday = price_df.index[price_df.index.tolist().index(day) - 1]\n",
    "        return (price_df.loc[today] - price_df.loc[yesterday])/price_df.loc[yesterday]\n",
    "\n",
    "    def build_portfolio(self, m, time_secs=3600):\n",
    "        \"\"\"\n",
    "        Parameters:\n",
    "            - m: int\n",
    "                The number of stocks to be selected from the list of stocks present in the DataFrame to create the portfolio\n",
    "            - time_secs: int, Default = 3600\n",
    "                The number of seconds the optimizer should run for after which the sub-optimal solution should be returned\n",
    "\n",
    "        Returns:\n",
    "            - pandas.DataFrame\n",
    "                A DataFrame with Indices representing the portfolio stocks,\n",
    "                and the column \"weight\" representing its weight in the portfolio \n",
    "        \"\"\"\n",
    "\n",
    "        # Create an array to make it easy for indexing the \"A\" matrix later\n",
    "        arr_cols = np.array(range(self.n_cols))\n",
    "\n",
    "        # We need to solve for the best \"m\" stocks representing all the stocks among the 100 stocks\n",
    "        #   only for the first method\n",
    "        if not self.MIP:\n",
    "\n",
    "            # Define the number of constraints, variables, matrices - A,b, sense, obj\n",
    "            n_constraints = 1 + self.n_rows + self.n_rows*self.n_cols\n",
    "            n_variables = self.n_cols + self.n_rows*self.n_cols\n",
    "            A = np.zeros((n_constraints, n_variables))\n",
    "            sense = np.array(['=']*n_constraints)\n",
    "            b = np.array([0]*n_constraints)\n",
    "            constraints_added = 0\n",
    "\n",
    "            # Make correlation matrix linear 1-D Array\n",
    "            correlation_linear = []\n",
    "            for i in self.no_idx_correlation_df.columns:\n",
    "                correlation_linear += self.no_idx_correlation_df[i].to_list()\n",
    "            obj = np.array([0]*self.n_cols + correlation_linear)\n",
    "\n",
    "            # Constraint to select a max of \"m\" stocks\n",
    "            A[constraints_added, :self.n_cols] = 1\n",
    "            b[constraints_added] = m\n",
    "            constraints_added += 1\n",
    "\n",
    "            # Constraints to have only one representative stock for each stock in the portfolio\n",
    "            for i in range(self.n_rows):\n",
    "                A[constraints_added, self.n_cols+i*self.n_rows+arr_cols] = 1\n",
    "                b[constraints_added] = 1\n",
    "                constraints_added += 1\n",
    "\n",
    "            # Logical constraint for each x to be non-zero when the representative stock is present in the portfolio\n",
    "            for i in range(self.n_rows):\n",
    "                for j in range(self.n_cols):\n",
    "                    A[constraints_added, self.n_cols*(1+i) + j] = 1\n",
    "                    A[constraints_added, j] = -1\n",
    "                    b[constraints_added] = 0\n",
    "                    sense[constraints_added] = '<'\n",
    "                    constraints_added += 1\n",
    "\n",
    "            # Optimize\n",
    "            ojModel = gp.Model()\n",
    "            ojModX = ojModel.addMVar(len(obj), vtype=['B']*len(obj))\n",
    "            ojModel.addMConstrs(A, ojModX, sense, b)\n",
    "            ojModel.setMObjective(None, obj, 0, sense=gp.GRB.MAXIMIZE)\n",
    "            ojModel.Params.OutputFlag = 0\n",
    "            ojModel.optimize()\n",
    "\n",
    "            # Save selected stock array (A binary array with 1 if the stock is present in the portfolio, else 0)\n",
    "            self.selected_stocks = ojModX.x[:self.n_cols]\n",
    "\n",
    "        # Second Optimization - This step is required for both methods with additional constraints for the second method\n",
    "        \n",
    "        # Define the number of constraints, variables, matrices - A,b, sense, obj, vtype\n",
    "        n_weights = self.n_cols if self.MIP else m\n",
    "        n_variables = n_weights + len(self.returns_df)\n",
    "        n_constraints = 1 + 2*len(self.returns_df)\n",
    "        \n",
    "        # Modify variables based on the type of solver being used\n",
    "        if self.MIP:\n",
    "            portfolio = self.no_idx_returns_df\n",
    "            n_variables += self.n_cols\n",
    "            n_constraints += self.n_cols + 1\n",
    "        else:\n",
    "            portfolio = self.no_idx_returns_df[self.no_idx_returns_df.columns[self.selected_stocks.astype(bool)]]\n",
    "        index_fund = self.returns_df[[self.idx_fund_col]]\n",
    "        \n",
    "        A = np.zeros((n_constraints, n_variables))\n",
    "        sense = np.array(['>']*n_constraints)\n",
    "        b = np.array([0.]*n_constraints)\n",
    "        constraints_added = 0\n",
    "        obj = np.array([0]*n_weights + [1]*len(self.returns_df) + [0]*int(self.MIP)*self.n_cols)\n",
    "        vtype = np.array(['C']*n_weights + ['C']*len(self.returns_df) + ['B']*int(self.MIP)*self.n_cols)\n",
    "\n",
    "        # Constraint to limit the sum of weights to 100%\n",
    "        A[constraints_added, :n_weights] = 1\n",
    "        b[constraints_added] = 1\n",
    "        sense[constraints_added] = '='\n",
    "        constraints_added += 1\n",
    "\n",
    "        # Constraint for the minimization of absolute error\n",
    "        for i in range(len(portfolio)):\n",
    "            # First half of absolute value constraint\n",
    "            A[constraints_added, n_weights+i] = 1\n",
    "            A[constraints_added, :n_weights] = portfolio.iloc[i].values\n",
    "            b[constraints_added] = index_fund.iloc[i]\n",
    "            constraints_added += 1\n",
    "\n",
    "            # Second half of absolute value constraint\n",
    "            A[constraints_added, n_weights+i] = 1\n",
    "            A[constraints_added, :n_weights] = -portfolio.iloc[i].values\n",
    "            b[constraints_added] = -index_fund.iloc[i]\n",
    "            constraints_added += 1\n",
    "        \n",
    "        # Adding extra constraints for the second method\n",
    "        if self.MIP:\n",
    "            # Logical Constraints (Big M constraints) for the weights to be non-zero only when stock is picked \n",
    "            for i in range(self.n_cols):\n",
    "                A[constraints_added, i] = 1\n",
    "                A[constraints_added, self.n_cols + len(self.returns_df) + i] = -1\n",
    "                b[constraints_added] = 0\n",
    "                sense[constraints_added] = '<'\n",
    "                constraints_added += 1\n",
    "\n",
    "            # Making sure only \"m\" among all stocks are selected for the portfolio\n",
    "            A[constraints_added, self.n_cols + len(self.returns_df):] = 1\n",
    "            b[constraints_added] = m\n",
    "            sense[constraints_added] = '='\n",
    "            constraints_added += 1\n",
    "\n",
    "        # Optimize the weights\n",
    "        ojModel = gp.Model()\n",
    "        ojModX = ojModel.addMVar(len(obj), vtype=vtype)\n",
    "        ojModel.addMConstrs(A, ojModX, sense, b)\n",
    "        ojModel.setMObjective(None, obj, 0, sense=gp.GRB.MINIMIZE)\n",
    "        ojModel.Params.OutputFlag = 0\n",
    "        ojModel.Params.TimeLimit = time_secs\n",
    "        ojModel.optimize()\n",
    "\n",
    "        # Save the weights obtained as an attribute of the class\n",
    "        self.weights = ojModX.x[:n_weights]\n",
    "\n",
    "        # Return a dataframe with Indices representing the portfolio stocks,\n",
    "        #   and the column \"weight\" representing its weight in the portfolio\n",
    "        return pd.DataFrame(ojModX.x[:n_weights], columns=[\"weight\"], index=portfolio.columns)\n",
    "\n",
    "    def get_error(self, test_filepath=None, weights=None):\n",
    "        \"\"\"\n",
    "        Parameters:\n",
    "            - test_filepath: str, Default=None\n",
    "                file path of the dataset with the stocks on which the performance of the portfolio has to be evaluated (i.e. Test Data).\n",
    "                If nothing is passed, the error will be calculated on the same data the portfolio was obtained on (i.e. Training Data)\n",
    "            - weights: pandas.Series, Default=None\n",
    "                A series of weights, where the indices represent the stocks, and the values represent the weight of each stock\n",
    "        \n",
    "        Returns:\n",
    "            Sum Absolute Difference between the returns of the index and the portfolio over the time available in the data\n",
    "        \"\"\"\n",
    "\n",
    "        if type(test_filepath) == type(None):\n",
    "            test_filepath = self.filepath\n",
    "\n",
    "        # Read and format the data as a DataFrame\n",
    "        test_df = pd.read_csv(test_filepath)\n",
    "        test_df[self.date_col] = pd.to_datetime(test_df[self.date_col])\n",
    "        test_df.set_index(keys=self.date_col, inplace=True)\n",
    "        test_df.sort_index(inplace=True)\n",
    "\n",
    "        # Calculate the returns from the prices of the stocks in the DataFrame\n",
    "        test_returns_df = pd.DataFrame(0, index=test_df.index.values[1:], columns=test_df.columns.values)\n",
    "        test_returns_df = test_returns_df.apply(\n",
    "            func=lambda row: self.__get_returns__(test_df, row.name), axis=1\n",
    "        )\n",
    "\n",
    "        # Keep a copy of the returns DataFrame without the Index fund column\n",
    "        test_no_idx_returns_df = test_returns_df.drop(columns=self.idx_fund_col)\n",
    "\n",
    "        # Select the portfolio based on the type of solver, and if the solution is already passed\n",
    "        #   - If MIP is used, portfolio is basically all stocks, but weights are non-zero only for \"m\" of them\n",
    "        if type(weights) != type(None):\n",
    "            portfolio = test_no_idx_returns_df[weights.index.values]\n",
    "        else:\n",
    "            if self.MIP:\n",
    "                portfolio = test_no_idx_returns_df\n",
    "            else:\n",
    "                portfolio = test_no_idx_returns_df[self.no_idx_returns_df.columns[self.selected_stocks.astype(bool)]]\n",
    "        index_fund = test_returns_df[[self.idx_fund_col]]\n",
    "        \n",
    "        # Set the appropriate weights for the error calculation\n",
    "        weights_for_dot = weights.values if type(weights) != type(None) else self.weights\n",
    "\n",
    "        # Calculate the Sum Absolute Error between the portfolio and index fund, and return the same\n",
    "        error = 0\n",
    "        for i in range(len(portfolio)):\n",
    "            error += np.abs(\n",
    "                np.dot(portfolio.iloc[i].values, weights_for_dot) - index_fund.iloc[i, 0]\n",
    "            )\n",
    "        return error\n",
    "\n",
    "def get_total_returns(fund, filepath):\n",
    "    # Read and format the data as a DataFrame\n",
    "    test_df = pd.read_csv(filepath)\n",
    "    date_col = test_df.columns.values[0]\n",
    "    test_df[date_col] = pd.to_datetime(test_df[date_col])\n",
    "    test_df.set_index(keys=date_col, inplace=True)\n",
    "    test_df.sort_index(inplace=True)\n",
    "    return 100*(test_df[fund].iloc[-1] - test_df[fund].iloc[0])/test_df[fund].iloc[0]"
   ]
  },
  {
   "cell_type": "markdown",
   "metadata": {},
   "source": [
    "### Bipartite Matching"
   ]
  },
  {
   "cell_type": "markdown",
   "metadata": {},
   "source": [
    "#### Finding the 5 best stocks to include in the portfolio"
   ]
  },
  {
   "cell_type": "code",
   "execution_count": 3,
   "metadata": {},
   "outputs": [
    {
     "name": "stdout",
     "output_type": "stream",
     "text": [
      "Set parameter Username\n",
      "Academic license - for non-commercial use only - expires 2023-10-29\n",
      "Portfolio of 5 stocks (with the weights as percentages)\n"
     ]
    },
    {
     "data": {
      "text/html": [
       "<div>\n",
       "<style scoped>\n",
       "    .dataframe tbody tr th:only-of-type {\n",
       "        vertical-align: middle;\n",
       "    }\n",
       "\n",
       "    .dataframe tbody tr th {\n",
       "        vertical-align: top;\n",
       "    }\n",
       "\n",
       "    .dataframe thead th {\n",
       "        text-align: right;\n",
       "    }\n",
       "</style>\n",
       "<table border=\"1\" class=\"dataframe\">\n",
       "  <thead>\n",
       "    <tr style=\"text-align: right;\">\n",
       "      <th></th>\n",
       "      <th>weight</th>\n",
       "    </tr>\n",
       "  </thead>\n",
       "  <tbody>\n",
       "    <tr>\n",
       "      <th>LBTYK</th>\n",
       "      <td>4.89</td>\n",
       "    </tr>\n",
       "    <tr>\n",
       "      <th>MXIM</th>\n",
       "      <td>21.04</td>\n",
       "    </tr>\n",
       "    <tr>\n",
       "      <th>MSFT</th>\n",
       "      <td>58.04</td>\n",
       "    </tr>\n",
       "    <tr>\n",
       "      <th>VRTX</th>\n",
       "      <td>7.12</td>\n",
       "    </tr>\n",
       "    <tr>\n",
       "      <th>XEL</th>\n",
       "      <td>8.92</td>\n",
       "    </tr>\n",
       "  </tbody>\n",
       "</table>\n",
       "</div>"
      ],
      "text/plain": [
       "       weight\n",
       "LBTYK    4.89\n",
       "MXIM    21.04\n",
       "MSFT    58.04\n",
       "VRTX     7.12\n",
       "XEL      8.92"
      ]
     },
     "execution_count": 3,
     "metadata": {},
     "output_type": "execute_result"
    }
   ],
   "source": [
    "portfolio_obj = StockPortfolio(\"stocks2019.csv\", MIP=False)\n",
    "portfolio = portfolio_obj.build_portfolio(5)\n",
    "\n",
    "print(\"Portfolio of 5 stocks (with the weights as percentages)\")\n",
    "(portfolio*100).round(2)"
   ]
  },
  {
   "cell_type": "code",
   "execution_count": 4,
   "metadata": {},
   "outputs": [
    {
     "data": {
      "image/png": "[encoded data removed]",
      "text/plain": [
       "<Figure size 576x432 with 1 Axes>"
      ]
     },
     "metadata": {
      "needs_background": "light"
     },
     "output_type": "display_data"
    }
   ],
   "source": [
    "(portfolio*100).plot.barh(y=\"weight\", color='#45C4B0', legend=None, figsize=(8, 6))\n",
    "plt.title(\"5 Best Stocks for the protfolio to represent the Index fund\")\n",
    "plt.xlabel(\"Percentage Weightage in Portfolio\")\n",
    "plt.ylabel(\"Stock in the Portfolio\")\n",
    "plt.show()"
   ]
  },
  {
   "cell_type": "markdown",
   "metadata": {},
   "source": [
    "#### Performance of the Stocks"
   ]
  },
  {
   "cell_type": "markdown",
   "metadata": {},
   "source": [
    "##### 1. In 2019"
   ]
  },
  {
   "cell_type": "markdown",
   "metadata": {},
   "source": [
    "Sum Absolute Difference of the returns (in %) between the Index fund and the 5 stocks in the portfolio in 2019."
   ]
  },
  {
   "cell_type": "code",
   "execution_count": 5,
   "metadata": {},
   "outputs": [
    {
     "name": "stdout",
     "output_type": "stream",
     "text": [
      "Training Error: 0.789178282463145\n"
     ]
    }
   ],
   "source": [
    "print(\"Training Error:\", portfolio_obj.get_error())"
   ]
  },
  {
   "cell_type": "markdown",
   "metadata": {},
   "source": [
    "##### 2. In 2020"
   ]
  },
  {
   "cell_type": "markdown",
   "metadata": {},
   "source": [
    "Sum Absolute Difference of the returns (in %) between the Index fund and the 5 stocks in the portfolio in 2020."
   ]
  },
  {
   "cell_type": "code",
   "execution_count": 6,
   "metadata": {},
   "outputs": [
    {
     "name": "stdout",
     "output_type": "stream",
     "text": [
      "Test Error: 0.8696699433741913\n"
     ]
    }
   ],
   "source": [
    "print(\"Test Error:\", portfolio_obj.get_error(test_filepath='stocks2020.csv'))"
   ]
  },
  {
   "cell_type": "code",
   "execution_count": 7,
   "metadata": {},
   "outputs": [
    {
     "data": {
      "image/png": "[encoded data removed]",
      "text/plain": [
       "<Figure size 576x432 with 1 Axes>"
      ]
     },
     "metadata": {
      "needs_background": "light"
     },
     "output_type": "display_data"
    }
   ],
   "source": [
    "pd.DataFrame([\n",
    "        portfolio_obj.get_error(),\n",
    "        portfolio_obj.get_error(test_filepath='stocks2020.csv')],\n",
    "    index=[\"Training Error (2019)\", \"Test Error (2020)\"]) \\\n",
    ".plot.barh(color='#45C4B0', legend=None, figsize=(8, 6))\n",
    "plt.title(\"Difference in performance (WRT Index) in 2019 and 2020 for the portfolio\")\n",
    "plt.xlabel(\"Sum Absolute Difference WRT Index (of return)\")\n",
    "plt.show()"
   ]
  },
  {
   "cell_type": "code",
   "execution_count": 8,
   "metadata": {},
   "outputs": [
    {
     "data": {
      "text/html": [
       "<div>\n",
       "<style scoped>\n",
       "    .dataframe tbody tr th:only-of-type {\n",
       "        vertical-align: middle;\n",
       "    }\n",
       "\n",
       "    .dataframe tbody tr th {\n",
       "        vertical-align: top;\n",
       "    }\n",
       "\n",
       "    .dataframe thead th {\n",
       "        text-align: right;\n",
       "    }\n",
       "</style>\n",
       "<table border=\"1\" class=\"dataframe\">\n",
       "  <thead>\n",
       "    <tr style=\"text-align: right;\">\n",
       "      <th></th>\n",
       "      <th>year</th>\n",
       "      <th>stock</th>\n",
       "      <th>returns</th>\n",
       "    </tr>\n",
       "  </thead>\n",
       "  <tbody>\n",
       "    <tr>\n",
       "      <th>0</th>\n",
       "      <td>2019</td>\n",
       "      <td>Index</td>\n",
       "      <td>36.926715</td>\n",
       "    </tr>\n",
       "    <tr>\n",
       "      <th>1</th>\n",
       "      <td>2019</td>\n",
       "      <td>Portfolio</td>\n",
       "      <td>44.811171</td>\n",
       "    </tr>\n",
       "    <tr>\n",
       "      <th>2</th>\n",
       "      <td>2020</td>\n",
       "      <td>Index</td>\n",
       "      <td>28.694508</td>\n",
       "    </tr>\n",
       "    <tr>\n",
       "      <th>3</th>\n",
       "      <td>2020</td>\n",
       "      <td>Portfolio</td>\n",
       "      <td>23.462715</td>\n",
       "    </tr>\n",
       "  </tbody>\n",
       "</table>\n",
       "</div>"
      ],
      "text/plain": [
       "   year      stock    returns\n",
       "0  2019      Index  36.926715\n",
       "1  2019  Portfolio  44.811171\n",
       "2  2020      Index  28.694508\n",
       "3  2020  Portfolio  23.462715"
      ]
     },
     "execution_count": 8,
     "metadata": {},
     "output_type": "execute_result"
    }
   ],
   "source": [
    "returns = pd.DataFrame([\n",
    "    [2019, \"Index\", get_total_returns('NDX', 'stocks2019.csv')],\n",
    "    [2019, \"Portfolio\", portfolio.apply(lambda x: get_total_returns(x.name, 'stocks2019.csv')*x[\"weight\"], axis=1).sum()],\n",
    "    [2020, \"Index\", get_total_returns('NDX', 'stocks2020.csv')],\n",
    "    [2020, \"Portfolio\", portfolio.apply(lambda x: get_total_returns(x.name, 'stocks2020.csv')*x[\"weight\"], axis=1).sum()]\n",
    "], columns=[\"year\", \"stock\", \"returns\"])\n",
    "returns"
   ]
  },
  {
   "cell_type": "code",
   "execution_count": 9,
   "metadata": {},
   "outputs": [
    {
     "data": {
      "image/png": "[encoded data removed]",
      "text/plain": [
       "<Figure size 432x288 with 1 Axes>"
      ]
     },
     "metadata": {
      "needs_background": "light"
     },
     "output_type": "display_data"
    }
   ],
   "source": [
    "returns.pivot_table(values=\"returns\", index=\"year\", columns=\"stock\").plot.bar(color=[\"#012030\", \"#45C4B0\"])\n",
    "plt.ylabel(\"Annual Returns %\")\n",
    "plt.xlabel(\"Year\")\n",
    "plt.legend(title=\"Stock\")\n",
    "plt.show()"
   ]
  },
  {
   "cell_type": "markdown",
   "metadata": {},
   "source": [
    "#### Performance Evaluation for different values of \"m\""
   ]
  },
  {
   "cell_type": "code",
   "execution_count": 10,
   "metadata": {},
   "outputs": [
    {
     "data": {
      "text/html": [
       "<div>\n",
       "<style scoped>\n",
       "    .dataframe tbody tr th:only-of-type {\n",
       "        vertical-align: middle;\n",
       "    }\n",
       "\n",
       "    .dataframe tbody tr th {\n",
       "        vertical-align: top;\n",
       "    }\n",
       "\n",
       "    .dataframe thead th {\n",
       "        text-align: right;\n",
       "    }\n",
       "</style>\n",
       "<table border=\"1\" class=\"dataframe\">\n",
       "  <thead>\n",
       "    <tr style=\"text-align: right;\">\n",
       "      <th></th>\n",
       "      <th>Training Error</th>\n",
       "      <th>Test Error</th>\n",
       "      <th>stock_weights</th>\n",
       "    </tr>\n",
       "    <tr>\n",
       "      <th>m</th>\n",
       "      <th></th>\n",
       "      <th></th>\n",
       "      <th></th>\n",
       "    </tr>\n",
       "  </thead>\n",
       "  <tbody>\n",
       "    <tr>\n",
       "      <th>10</th>\n",
       "      <td>0.701218</td>\n",
       "      <td>0.838888</td>\n",
       "      <td>{'weight': {'ATVI': 0.04420008162515847, 'ALGN...</td>\n",
       "    </tr>\n",
       "    <tr>\n",
       "      <th>20</th>\n",
       "      <td>0.473736</td>\n",
       "      <td>0.682573</td>\n",
       "      <td>{'weight': {'ATVI': 0.017392765628436044, 'ALG...</td>\n",
       "    </tr>\n",
       "    <tr>\n",
       "      <th>30</th>\n",
       "      <td>0.418015</td>\n",
       "      <td>0.549085</td>\n",
       "      <td>{'weight': {'ATVI': 0.01688990149118497, 'ADBE...</td>\n",
       "    </tr>\n",
       "    <tr>\n",
       "      <th>40</th>\n",
       "      <td>0.370517</td>\n",
       "      <td>0.587312</td>\n",
       "      <td>{'weight': {'ATVI': 0.02889294601289469, 'ADBE...</td>\n",
       "    </tr>\n",
       "    <tr>\n",
       "      <th>50</th>\n",
       "      <td>0.332540</td>\n",
       "      <td>0.581148</td>\n",
       "      <td>{'weight': {'ATVI': 0.01945631641398464, 'ADBE...</td>\n",
       "    </tr>\n",
       "    <tr>\n",
       "      <th>60</th>\n",
       "      <td>0.344890</td>\n",
       "      <td>0.819424</td>\n",
       "      <td>{'weight': {'ATVI': 0.01533975718895081, 'ADBE...</td>\n",
       "    </tr>\n",
       "    <tr>\n",
       "      <th>70</th>\n",
       "      <td>0.169824</td>\n",
       "      <td>0.402497</td>\n",
       "      <td>{'weight': {'ATVI': 0.011191256355571994, 'AMD...</td>\n",
       "    </tr>\n",
       "    <tr>\n",
       "      <th>80</th>\n",
       "      <td>0.147683</td>\n",
       "      <td>0.386431</td>\n",
       "      <td>{'weight': {'ATVI': 0.008611353419441697, 'AMD...</td>\n",
       "    </tr>\n",
       "    <tr>\n",
       "      <th>90</th>\n",
       "      <td>0.053779</td>\n",
       "      <td>0.247582</td>\n",
       "      <td>{'weight': {'ATVI': 0.003440798812385678, 'ADB...</td>\n",
       "    </tr>\n",
       "    <tr>\n",
       "      <th>100</th>\n",
       "      <td>0.044911</td>\n",
       "      <td>0.249936</td>\n",
       "      <td>{'weight': {'ATVI': 0.004222720908251319, 'ADB...</td>\n",
       "    </tr>\n",
       "  </tbody>\n",
       "</table>\n",
       "</div>"
      ],
      "text/plain": [
       "     Training Error  Test Error  \\\n",
       "m                                 \n",
       "10         0.701218    0.838888   \n",
       "20         0.473736    0.682573   \n",
       "30         0.418015    0.549085   \n",
       "40         0.370517    0.587312   \n",
       "50         0.332540    0.581148   \n",
       "60         0.344890    0.819424   \n",
       "70         0.169824    0.402497   \n",
       "80         0.147683    0.386431   \n",
       "90         0.053779    0.247582   \n",
       "100        0.044911    0.249936   \n",
       "\n",
       "                                         stock_weights  \n",
       "m                                                       \n",
       "10   {'weight': {'ATVI': 0.04420008162515847, 'ALGN...  \n",
       "20   {'weight': {'ATVI': 0.017392765628436044, 'ALG...  \n",
       "30   {'weight': {'ATVI': 0.01688990149118497, 'ADBE...  \n",
       "40   {'weight': {'ATVI': 0.02889294601289469, 'ADBE...  \n",
       "50   {'weight': {'ATVI': 0.01945631641398464, 'ADBE...  \n",
       "60   {'weight': {'ATVI': 0.01533975718895081, 'ADBE...  \n",
       "70   {'weight': {'ATVI': 0.011191256355571994, 'AMD...  \n",
       "80   {'weight': {'ATVI': 0.008611353419441697, 'AMD...  \n",
       "90   {'weight': {'ATVI': 0.003440798812385678, 'ADB...  \n",
       "100  {'weight': {'ATVI': 0.004222720908251319, 'ADB...  "
      ]
     },
     "metadata": {},
     "output_type": "display_data"
    }
   ],
   "source": [
    "errors = pd.DataFrame(\n",
    "    [], columns=[\"Training Error\", \"Test Error\", \"m\", \"stock_weights\"]\n",
    ")\n",
    "\n",
    "savpath_1 = \"FirstMethodPerformance.csv\"\n",
    "if exists(savpath_1):\n",
    "    errors = pd.read_csv(savpath_1).set_index(\"m\")\n",
    "    errors[\"stock_weights\"] = errors[\"stock_weights\"].map(eval)\n",
    "else:\n",
    "    for m in range(10,101,10):\n",
    "        portfolio_obj = StockPortfolio(\"stocks2019.csv\", MIP=False)\n",
    "        portfolio_weights = portfolio_obj.build_portfolio(m)\n",
    "        training_error = portfolio_obj.get_error()\n",
    "        test_error = portfolio_obj.get_error(test_filepath='stocks2020.csv')\n",
    "        errors.loc[len(errors)] = [training_error, test_error, m, portfolio_weights.to_dict()]\n",
    "    errors.set_index(\"m\", inplace=True)\n",
    "    errors.to_csv(savpath_1)\n",
    "display(errors)"
   ]
  },
  {
   "cell_type": "code",
   "execution_count": 11,
   "metadata": {},
   "outputs": [
    {
     "data": {
      "image/png": "[encoded data removed]",
      "text/plain": [
       "<Figure size 864x720 with 1 Axes>"
      ]
     },
     "metadata": {
      "needs_background": "light"
     },
     "output_type": "display_data"
    }
   ],
   "source": [
    "errors.plot(y=[\"Training Error\", \"Test Error\"], marker=\"o\", figsize=(12,10), color=[\"#012030\", \"#45C4B0\"])\n",
    "plt.title(\"Performance of portfolios of different sizes\")\n",
    "plt.xlabel(\"Portfolio size (# of stocks)\")\n",
    "plt.ylabel(\"Sum Absolute Difference WRT Index (of return)\")\n",
    "plt.show()"
   ]
  },
  {
   "cell_type": "markdown",
   "metadata": {},
   "source": [
    "### Solving a Single \"Mixed Integer Program\""
   ]
  },
  {
   "cell_type": "markdown",
   "metadata": {},
   "source": [
    "#### Finding the 5 best stocks to include in the portfolio"
   ]
  },
  {
   "cell_type": "code",
   "execution_count": 17,
   "metadata": {},
   "outputs": [
    {
     "name": "stdout",
     "output_type": "stream",
     "text": [
      "Portfolio of 5 stocks (with the weights as percentages)\n"
     ]
    },
    {
     "data": {
      "text/html": [
       "<div>\n",
       "<style scoped>\n",
       "    .dataframe tbody tr th:only-of-type {\n",
       "        vertical-align: middle;\n",
       "    }\n",
       "\n",
       "    .dataframe tbody tr th {\n",
       "        vertical-align: top;\n",
       "    }\n",
       "\n",
       "    .dataframe thead th {\n",
       "        text-align: right;\n",
       "    }\n",
       "</style>\n",
       "<table border=\"1\" class=\"dataframe\">\n",
       "  <thead>\n",
       "    <tr style=\"text-align: right;\">\n",
       "      <th></th>\n",
       "      <th>weight</th>\n",
       "    </tr>\n",
       "  </thead>\n",
       "  <tbody>\n",
       "    <tr>\n",
       "      <th>AMZN</th>\n",
       "      <td>25.01</td>\n",
       "    </tr>\n",
       "    <tr>\n",
       "      <th>ADI</th>\n",
       "      <td>11.38</td>\n",
       "    </tr>\n",
       "    <tr>\n",
       "      <th>AAPL</th>\n",
       "      <td>19.17</td>\n",
       "    </tr>\n",
       "    <tr>\n",
       "      <th>MSFT</th>\n",
       "      <td>28.99</td>\n",
       "    </tr>\n",
       "    <tr>\n",
       "      <th>MDLZ</th>\n",
       "      <td>15.46</td>\n",
       "    </tr>\n",
       "  </tbody>\n",
       "</table>\n",
       "</div>"
      ],
      "text/plain": [
       "      weight\n",
       "AMZN   25.01\n",
       "ADI    11.38\n",
       "AAPL   19.17\n",
       "MSFT   28.99\n",
       "MDLZ   15.46"
      ]
     },
     "execution_count": 17,
     "metadata": {},
     "output_type": "execute_result"
    }
   ],
   "source": [
    "portfolio_obj = StockPortfolio(\"stocks2019.csv\", MIP=True)\n",
    "portfolio = portfolio_obj.build_portfolio(5, 3600)\n",
    "portfolio = portfolio[portfolio[\"weight\"] > 0]\n",
    "\n",
    "print(\"Portfolio of 5 stocks (with the weights as percentages)\")\n",
    "(portfolio[portfolio[\"weight\"] > 0]*100).round(2)"
   ]
  },
  {
   "cell_type": "code",
   "execution_count": 18,
   "metadata": {},
   "outputs": [
    {
     "data": {
      "image/png": "[encoded data removed]",
      "text/plain": [
       "<Figure size 576x432 with 1 Axes>"
      ]
     },
     "metadata": {
      "needs_background": "light"
     },
     "output_type": "display_data"
    }
   ],
   "source": [
    "(portfolio*100).plot.barh(y=\"weight\", color='#45C4B0', legend=None, figsize=(8, 6))\n",
    "plt.title(\"5 Best Stocks for the protfolio to represent the Index fund\")\n",
    "plt.xlabel(\"Percentage Weightage in Portfolio\")\n",
    "plt.ylabel(\"Stock in the Portfolio\")\n",
    "plt.show()"
   ]
  },
  {
   "cell_type": "markdown",
   "metadata": {},
   "source": [
    "#### Performance of the Stocks"
   ]
  },
  {
   "cell_type": "markdown",
   "metadata": {},
   "source": [
    "##### 1. In 2019"
   ]
  },
  {
   "cell_type": "markdown",
   "metadata": {},
   "source": [
    "Sum Absolute Difference of the returns (in %) between the Index fund and the 5 stocks in the portfolio in 2019."
   ]
  },
  {
   "cell_type": "code",
   "execution_count": 19,
   "metadata": {},
   "outputs": [
    {
     "name": "stdout",
     "output_type": "stream",
     "text": [
      "Training Error: 0.4992586920546347\n"
     ]
    }
   ],
   "source": [
    "print(\"Training Error:\", portfolio_obj.get_error())"
   ]
  },
  {
   "cell_type": "markdown",
   "metadata": {},
   "source": [
    "##### 2. In 2020"
   ]
  },
  {
   "cell_type": "markdown",
   "metadata": {},
   "source": [
    "Sum Absolute Difference of the returns (in %) between the Index fund and the 5 stocks in the portfolio in 2020."
   ]
  },
  {
   "cell_type": "code",
   "execution_count": 20,
   "metadata": {},
   "outputs": [
    {
     "name": "stdout",
     "output_type": "stream",
     "text": [
      "Test Error: 0.5913979244173756\n"
     ]
    }
   ],
   "source": [
    "print(\"Test Error:\", portfolio_obj.get_error(test_filepath='stocks2020.csv'))"
   ]
  },
  {
   "cell_type": "code",
   "execution_count": 21,
   "metadata": {},
   "outputs": [
    {
     "data": {
      "image/png": "[encoded data removed]",
      "text/plain": [
       "<Figure size 576x432 with 1 Axes>"
      ]
     },
     "metadata": {
      "needs_background": "light"
     },
     "output_type": "display_data"
    }
   ],
   "source": [
    "pd.DataFrame([\n",
    "        portfolio_obj.get_error(),\n",
    "        portfolio_obj.get_error(test_filepath='stocks2020.csv')],\n",
    "    index=[\"Training Error (2019)\", \"Test Error (2020)\"]) \\\n",
    ".plot.barh(color='#45C4B0', legend=None, figsize=(8, 6))\n",
    "plt.title(\"Difference in performance (WRT Index) in 2019 and 2020 for the portfolio\")\n",
    "plt.xlabel(\"Sum Absolute Difference WRT Index (of return)\")\n",
    "plt.show()"
   ]
  },
  {
   "cell_type": "markdown",
   "metadata": {},
   "source": [
    "##### How Does the overall returns look"
   ]
  },
  {
   "cell_type": "code",
   "execution_count": 22,
   "metadata": {},
   "outputs": [
    {
     "data": {
      "text/html": [
       "<div>\n",
       "<style scoped>\n",
       "    .dataframe tbody tr th:only-of-type {\n",
       "        vertical-align: middle;\n",
       "    }\n",
       "\n",
       "    .dataframe tbody tr th {\n",
       "        vertical-align: top;\n",
       "    }\n",
       "\n",
       "    .dataframe thead th {\n",
       "        text-align: right;\n",
       "    }\n",
       "</style>\n",
       "<table border=\"1\" class=\"dataframe\">\n",
       "  <thead>\n",
       "    <tr style=\"text-align: right;\">\n",
       "      <th></th>\n",
       "      <th>year</th>\n",
       "      <th>stock</th>\n",
       "      <th>returns</th>\n",
       "    </tr>\n",
       "  </thead>\n",
       "  <tbody>\n",
       "    <tr>\n",
       "      <th>0</th>\n",
       "      <td>2019</td>\n",
       "      <td>Index</td>\n",
       "      <td>36.926715</td>\n",
       "    </tr>\n",
       "    <tr>\n",
       "      <th>1</th>\n",
       "      <td>2019</td>\n",
       "      <td>Portfolio</td>\n",
       "      <td>49.583265</td>\n",
       "    </tr>\n",
       "    <tr>\n",
       "      <th>2</th>\n",
       "      <td>2020</td>\n",
       "      <td>Index</td>\n",
       "      <td>28.694508</td>\n",
       "    </tr>\n",
       "    <tr>\n",
       "      <th>3</th>\n",
       "      <td>2020</td>\n",
       "      <td>Portfolio</td>\n",
       "      <td>37.355926</td>\n",
       "    </tr>\n",
       "  </tbody>\n",
       "</table>\n",
       "</div>"
      ],
      "text/plain": [
       "   year      stock    returns\n",
       "0  2019      Index  36.926715\n",
       "1  2019  Portfolio  49.583265\n",
       "2  2020      Index  28.694508\n",
       "3  2020  Portfolio  37.355926"
      ]
     },
     "execution_count": 22,
     "metadata": {},
     "output_type": "execute_result"
    }
   ],
   "source": [
    "returns = pd.DataFrame([\n",
    "    [2019, \"Index\", get_total_returns('NDX', 'stocks2019.csv')],\n",
    "    [2019, \"Portfolio\", portfolio.apply(lambda x: get_total_returns(x.name, 'stocks2019.csv')*x[\"weight\"], axis=1).sum()],\n",
    "    [2020, \"Index\", get_total_returns('NDX', 'stocks2020.csv')],\n",
    "    [2020, \"Portfolio\", portfolio.apply(lambda x: get_total_returns(x.name, 'stocks2020.csv')*x[\"weight\"], axis=1).sum()]\n",
    "], columns=[\"year\", \"stock\", \"returns\"])\n",
    "returns"
   ]
  },
  {
   "cell_type": "code",
   "execution_count": 23,
   "metadata": {},
   "outputs": [
    {
     "data": {
      "image/png": "[encoded data removed]",
      "text/plain": [
       "<Figure size 432x288 with 1 Axes>"
      ]
     },
     "metadata": {
      "needs_background": "light"
     },
     "output_type": "display_data"
    }
   ],
   "source": [
    "returns.pivot_table(values=\"returns\", index=\"year\", columns=\"stock\").plot.bar(color=[\"#012030\", \"#45C4B0\"])\n",
    "plt.ylabel(\"Annual Returns %\")\n",
    "plt.xlabel(\"Year\")\n",
    "plt.legend(title=\"Stock\")\n",
    "plt.show()"
   ]
  },
  {
   "cell_type": "markdown",
   "metadata": {},
   "source": [
    "#### Performance Evaluation for different values of \"m\""
   ]
  },
  {
   "cell_type": "code",
   "execution_count": 12,
   "metadata": {},
   "outputs": [
    {
     "data": {
      "text/html": [
       "<div>\n",
       "<style scoped>\n",
       "    .dataframe tbody tr th:only-of-type {\n",
       "        vertical-align: middle;\n",
       "    }\n",
       "\n",
       "    .dataframe tbody tr th {\n",
       "        vertical-align: top;\n",
       "    }\n",
       "\n",
       "    .dataframe thead th {\n",
       "        text-align: right;\n",
       "    }\n",
       "</style>\n",
       "<table border=\"1\" class=\"dataframe\">\n",
       "  <thead>\n",
       "    <tr style=\"text-align: right;\">\n",
       "      <th></th>\n",
       "      <th>Training Error</th>\n",
       "      <th>Test Error</th>\n",
       "      <th>stock_weights</th>\n",
       "    </tr>\n",
       "    <tr>\n",
       "      <th>m</th>\n",
       "      <th></th>\n",
       "      <th></th>\n",
       "      <th></th>\n",
       "    </tr>\n",
       "  </thead>\n",
       "  <tbody>\n",
       "    <tr>\n",
       "      <th>10</th>\n",
       "      <td>0.290137</td>\n",
       "      <td>0.548939</td>\n",
       "      <td>{'weight': {'ATVI': 0.0, 'ADBE': 0.0, 'AMD': 0...</td>\n",
       "    </tr>\n",
       "    <tr>\n",
       "      <th>20</th>\n",
       "      <td>0.159429</td>\n",
       "      <td>0.416908</td>\n",
       "      <td>{'weight': {'ATVI': 0.01382051578256075, 'ADBE...</td>\n",
       "    </tr>\n",
       "    <tr>\n",
       "      <th>30</th>\n",
       "      <td>0.107021</td>\n",
       "      <td>0.359760</td>\n",
       "      <td>{'weight': {'ATVI': 0.0, 'ADBE': 0.02455918617...</td>\n",
       "    </tr>\n",
       "    <tr>\n",
       "      <th>40</th>\n",
       "      <td>0.078739</td>\n",
       "      <td>0.291981</td>\n",
       "      <td>{'weight': {'ATVI': 0.0, 'ADBE': 0.01797095555...</td>\n",
       "    </tr>\n",
       "    <tr>\n",
       "      <th>50</th>\n",
       "      <td>0.061835</td>\n",
       "      <td>0.249492</td>\n",
       "      <td>{'weight': {'ATVI': 0.0, 'ADBE': 0.02436270147...</td>\n",
       "    </tr>\n",
       "    <tr>\n",
       "      <th>60</th>\n",
       "      <td>0.051988</td>\n",
       "      <td>0.252797</td>\n",
       "      <td>{'weight': {'ATVI': 0.0, 'ADBE': 0.01565746146...</td>\n",
       "    </tr>\n",
       "    <tr>\n",
       "      <th>70</th>\n",
       "      <td>0.047567</td>\n",
       "      <td>0.240660</td>\n",
       "      <td>{'weight': {'ATVI': 0.003493793736035044, 'ADB...</td>\n",
       "    </tr>\n",
       "    <tr>\n",
       "      <th>80</th>\n",
       "      <td>0.045227</td>\n",
       "      <td>0.249143</td>\n",
       "      <td>{'weight': {'ATVI': 0.0031192740211602316, 'AD...</td>\n",
       "    </tr>\n",
       "    <tr>\n",
       "      <th>90</th>\n",
       "      <td>0.044913</td>\n",
       "      <td>0.250377</td>\n",
       "      <td>{'weight': {'ATVI': 0.004234168796494505, 'ADB...</td>\n",
       "    </tr>\n",
       "    <tr>\n",
       "      <th>100</th>\n",
       "      <td>0.044911</td>\n",
       "      <td>0.249936</td>\n",
       "      <td>{'weight': {'ATVI': 0.004222720908251356, 'ADB...</td>\n",
       "    </tr>\n",
       "  </tbody>\n",
       "</table>\n",
       "</div>"
      ],
      "text/plain": [
       "     Training Error  Test Error  \\\n",
       "m                                 \n",
       "10         0.290137    0.548939   \n",
       "20         0.159429    0.416908   \n",
       "30         0.107021    0.359760   \n",
       "40         0.078739    0.291981   \n",
       "50         0.061835    0.249492   \n",
       "60         0.051988    0.252797   \n",
       "70         0.047567    0.240660   \n",
       "80         0.045227    0.249143   \n",
       "90         0.044913    0.250377   \n",
       "100        0.044911    0.249936   \n",
       "\n",
       "                                         stock_weights  \n",
       "m                                                       \n",
       "10   {'weight': {'ATVI': 0.0, 'ADBE': 0.0, 'AMD': 0...  \n",
       "20   {'weight': {'ATVI': 0.01382051578256075, 'ADBE...  \n",
       "30   {'weight': {'ATVI': 0.0, 'ADBE': 0.02455918617...  \n",
       "40   {'weight': {'ATVI': 0.0, 'ADBE': 0.01797095555...  \n",
       "50   {'weight': {'ATVI': 0.0, 'ADBE': 0.02436270147...  \n",
       "60   {'weight': {'ATVI': 0.0, 'ADBE': 0.01565746146...  \n",
       "70   {'weight': {'ATVI': 0.003493793736035044, 'ADB...  \n",
       "80   {'weight': {'ATVI': 0.0031192740211602316, 'AD...  \n",
       "90   {'weight': {'ATVI': 0.004234168796494505, 'ADB...  \n",
       "100  {'weight': {'ATVI': 0.004222720908251356, 'ADB...  "
      ]
     },
     "metadata": {},
     "output_type": "display_data"
    }
   ],
   "source": [
    "errors_MIP = pd.DataFrame(\n",
    "    [], columns=[\"Training Error\", \"Test Error\", \"m\", \"stock_weights\"]\n",
    ")\n",
    "\n",
    "savpath_2 = \"SecondMethodPerformance.csv\"\n",
    "if exists(savpath_2):\n",
    "    errors_MIP = pd.read_csv(savpath_2).set_index(\"m\")\n",
    "    errors_MIP[\"stock_weights\"] = errors_MIP[\"stock_weights\"].map(eval)\n",
    "else:\n",
    "    for m in range(10,101,10):\n",
    "        portfolio_obj = StockPortfolio(\"stocks2019.csv\", MIP=True)\n",
    "        portfolio_weights = portfolio_obj.build_portfolio(m, 3600)\n",
    "        training_error = portfolio_obj.get_error()\n",
    "        test_error = portfolio_obj.get_error(test_filepath='stocks2020.csv')\n",
    "        errors_MIP.loc[len(errors_MIP)] = [training_error, test_error, m, portfolio_weights.to_dict()]\n",
    "    errors_MIP.set_index(\"m\", inplace=True)\n",
    "    errors_MIP.to_csv(savpath_2)\n",
    "display(errors_MIP)"
   ]
  },
  {
   "cell_type": "code",
   "execution_count": 13,
   "metadata": {},
   "outputs": [
    {
     "data": {
      "image/png": "[encoded data removed]",
      "text/plain": [
       "<Figure size 864x720 with 1 Axes>"
      ]
     },
     "metadata": {
      "needs_background": "light"
     },
     "output_type": "display_data"
    }
   ],
   "source": [
    "errors_MIP.plot(y=[\"Training Error\", \"Test Error\"], marker=\"o\", figsize=(12,10), color=[\"#012030\", \"#45C4B0\"])\n",
    "plt.title(\"Performance of portfolios of different sizes\")\n",
    "plt.xlabel(\"Portfolio size (# of stocks)\")\n",
    "plt.ylabel(\"Sum Absolute Difference WRT Index (of return %)\")\n",
    "plt.show()"
   ]
  }
 ],
 "metadata": {
  "kernelspec": {
   "display_name": "Python 3 (ipykernel)",
   "language": "python",
   "name": "python3"
  },
  "language_info": {
   "codemirror_mode": {
    "name": "ipython",
    "version": 3
   },
   "file_extension": ".py",
   "mimetype": "text/x-python",
   "name": "python",
   "nbconvert_exporter": "python",
   "pygments_lexer": "ipython3",
   "version": "3.10.5"
  },
  "vscode": {
   "interpreter": {
    "hash": "26de051ba29f2982a8de78e945f0abaf191376122a1563185a90213a26c5da77"
   }
  }
 },
 "nbformat": 4,
 "nbformat_minor": 4
}
